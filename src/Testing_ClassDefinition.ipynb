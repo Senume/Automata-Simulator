{
 "cells": [
  {
   "cell_type": "code",
   "execution_count": 51,
   "metadata": {},
   "outputs": [],
   "source": [
    "class Transition:\n",
    "    \"\"\"The Basic Transition implementation of a state is defined\"\"\"\n",
    "\n",
    "    def __init__(self, InState, InString, OutState, OutString = None):\n",
    "        \"\"\" Defines the basic transition properties and intialized with Argument\n",
    "            Instate    -   Current state ID\n",
    "            Instring   -   Transition string input\n",
    "            OutString  -   Transition output sting\n",
    "            OutState   -   Next state's ID of the transition\n",
    "        \"\"\"\n",
    "\n",
    "        self.InState = InState\n",
    "        self.InString = InString\n",
    "        self.OutString = OutString\n",
    "        self.OutState = OutState\n",
    "\n",
    "    def Output(self):\n",
    "        return [self.OutString, self.OutState]"
   ]
  },
  {
   "cell_type": "code",
   "execution_count": 62,
   "metadata": {},
   "outputs": [],
   "source": [
    "class State:\n",
    "    \"\"\" This is a class to define the properties of an individual State in a automata\"\"\"\n",
    "\n",
    "    def __init__(self, name, FinalState):\n",
    "        \"\"\" Initailize the State with Arguement:\n",
    "            ID           -  Unique Identifier for the State (String or Integer)\n",
    "            StateType    -  Defines the if the State is Terminal State or vice versa (Boolean)\n",
    "            Transition   -  COntains all transitions from the State (Dictionary)\"\"\"\n",
    "\n",
    "        self.ID = name\n",
    "        self.StateType = FinalState\n",
    "        self.Transition = dict()\n",
    "\n",
    "    def addTransition(self, InString, OutString, OutState):\n",
    "        \"\"\" Appends a Transition into the class variable 'Transition'\n",
    "            Arguement of the method:\n",
    "            Instring    -  Transistion string input \n",
    "            Outstring   -  Output string of the transition\n",
    "            Outstate    -  Next state of the transition\n",
    "            \n",
    "            Return:\n",
    "            None\n",
    "            \"\"\"\n",
    "\n",
    "        if InString in self.Transition.keys():\n",
    "            print(\"Transition with same Instring available\")\n",
    "            self.Transition[InString].append(Transition(self, InString,OutString= OutString, OutState = OutState))\n",
    "        else:\n",
    "            print(\"New input string Transition\")\n",
    "            self.Transition[InString] = []\n",
    "            self.Transition[InString].append(Transition(self, InString, OutString = OutString, OutState = OutState))\n",
    "\n",
    "    def CheckTransition(self, InputAlphabet):\n",
    "\n",
    "        if InputAlphabet in self.Transition.keys() and '' in self.Transition.keys():\n",
    "            Transition_Output_List = []\n",
    "            for Transit in self.Transition[InputAlphabet]:\n",
    "                Transition_Output_List.append(Transit.Output())\n",
    "            for Transit in self.Transition['']:\n",
    "                Transition_Output_List.append(Transit.Output())\n",
    "            return Transition_Output_List\n",
    "\n",
    "        elif InputAlphabet not in self.Transition.keys():\n",
    "            print(\"No Transition as such\")\n",
    "            return [-1]\n",
    "        else:\n",
    "\n",
    "            Transition_Output_List = []\n",
    "            for Transit in self.Transition[InputAlphabet]:\n",
    "                Transition_Output_List.append(Transit.Output())\n",
    "            return Transition_Output_List\n"
   ]
  },
  {
   "cell_type": "code",
   "execution_count": 53,
   "metadata": {},
   "outputs": [],
   "source": [
    "class Automata:\n",
    "    \"\"\" Basic class to define the automata's structure and its transitions. Further this automata model and be deployed in acceptor or automaton for applications.\"\"\"\n",
    "\n",
    "    def __init__(self, StateCount, Alphabet, OutAlphabets, InitialState, FinalStaeCount):\n",
    "        \n",
    "        self.StatesCount = StateCount\n",
    "        self.Alphabet = Alphabet\n",
    "        self.OutAlphabets = OutAlphabets\n",
    "        self.InitialState = InitialState\n",
    "        self.FinalStaeCount = FinalStaeCount\n",
    "\n",
    "        self.States = dict()\n",
    "    \n",
    "    # Methods for building the automata structure\n",
    "\n",
    "    def AddState(self, ID, Type):\n",
    "\n",
    "        if self.StatesCount >= len(self.States):\n",
    "            self.States[ID] = State(ID, Type)\n",
    "        else:\n",
    "            print(\"Exceeding the number of states!!!\")\n",
    "\n",
    "    def AddStateTransition(self, InState, InString, OutString, OutState):\n",
    "\n",
    "        if InState in self.States.keys() and OutState in self.States.keys():\n",
    "            In = self.States[InState]\n",
    "            In.addTransition(InString, OutString, OutState)\n",
    "            return [1]\n",
    "        else:\n",
    "            return [-1]\n",
    "\n",
    "    # Create a new Transition object for a state\n",
    "\n",
    "    def AddsetTransition(self, InState, set ,OutState):\n",
    "        \n",
    "        for a in set:\n",
    "            PCode = self.AddStateTransition(InState, a, a, OutState)\n",
    "            if PCode == -1:\n",
    "                print(f'No state : {InState} present for the Transition |OR| No state : {OutState} present for the Transition')\n",
    "                break\n",
    "        if PCode != -1:\n",
    "            print(\"Successfully appended transitions\")\n",
    "        \n",
    "    def AddsetEpilsonTransition(self, InState, set ,OutState):\n",
    "\n",
    "        for a in set:\n",
    "            PCode = self.AddStateTransition(InState, a, '', OutState)\n",
    "            if PCode == -1:\n",
    "                print(f'No state : {InState} present for the Transition |OR| No state : {OutState} present for the Transition')\n",
    "                break\n",
    "            if PCode != -1:\n",
    "                print(\"Successfully appended transitions\")\n",
    "\n",
    "\n",
    "    def AddEpilsonTransition(self, InState, OutState):\n",
    "\n",
    "        PCode = self.AddStateTransition(InState, '', '', OutState)\n",
    "        if PCode == -1:\n",
    "            print(f'No state : {InState} present for the Transition |OR| No state : {OutState} present for the Transition')\n",
    "        else:\n",
    "            print(\"Successfully appended transitions\")\n",
    "\n",
    "    def AddEpilsonStringTransition(self, InState, OutString, OutState):\n",
    "\n",
    "        PCode = self.AddStateTransition(InState, '', OutString, OutState)\n",
    "        if PCode == -1:\n",
    "            print(f'No state : {InState} present for the Transition |OR| No state : {OutState} present for the Transition')\n",
    "        else:\n",
    "            print(\"Successfully appended transitions\")\n",
    "        \n"
   ]
  },
  {
   "cell_type": "code",
   "execution_count": 103,
   "metadata": {},
   "outputs": [
    {
     "name": "stdout",
     "output_type": "stream",
     "text": [
      "New input string Transition\n",
      "Transition with same Instring available\n",
      "New input string Transition\n"
     ]
    },
    {
     "data": {
      "text/plain": [
       "[1]"
      ]
     },
     "execution_count": 103,
     "metadata": {},
     "output_type": "execute_result"
    }
   ],
   "source": [
    "AutoEx_1 = Automata(StateCount=3, Alphabet=set('01'), OutAlphabets= None, InitialState='a', FinalStaeCount=1)\n",
    "\n",
    "# Adding States\n",
    "AutoEx_1.AddState(ID='a', Type= False)\n",
    "AutoEx_1.AddState(ID='b', Type= True)\n",
    "AutoEx_1.AddState(ID='c', Type= True)\n",
    "\n",
    "# Adding Transitions\n",
    "AutoEx_1.AddStateTransition(InState='a', InString = '1', OutString = '0', OutState= 'b')\n",
    "AutoEx_1.AddStateTransition(InState='a', InString = '1', OutString = '1', OutState= 'c')\n",
    "AutoEx_1.AddStateTransition(InState='b', InString = '0', OutString = '1', OutState= 'c')"
   ]
  },
  {
   "cell_type": "code",
   "execution_count": 115,
   "metadata": {},
   "outputs": [],
   "source": [
    "class Machine:\n",
    "\n",
    "    def __init__(self, Automata, InputString):\n",
    "        self.Automata = Automata\n",
    "        self.InputString = InputString\n",
    "\n",
    "    def Run(self,CurrentState, I = None, String = None):\n",
    "        \n",
    "        if I is None:\n",
    "            if self.Automata.States[CurrentState].StateType == True:\n",
    "                return [[True]]\n",
    "            else:\n",
    "                return [[False]]\n",
    "        else:\n",
    "            Output = []\n",
    "            Transition_Outputs = self.Automata.States[CurrentState].CheckTransition(InputAlphabet = I)\n",
    "\n",
    "            if Transition_Outputs[0] == -1:\n",
    "                return [[False]]\n",
    "\n",
    "            else:\n",
    "\n",
    "                for Transit_Output in Transition_Outputs:\n",
    "                    \n",
    "                    if Transit_Output == -1:\n",
    "                        continue\n",
    "\n",
    "                    if len(String) == 0:\n",
    "                        Sub_Transition_Output = self.Run(Transit_Output[1], I = None, String= None)\n",
    "                    else:\n",
    "                        Sub_Transition_Output = self.Run(Transit_Output[1], I = String[0], String= String[1:])\n",
    "                    \n",
    "                    for S in Sub_Transition_Output:\n",
    "                        S.insert(0,Transit_Output[0])\n",
    "                        Ouput = Output.append(S) \n",
    "                return Output\n"
   ]
  },
  {
   "cell_type": "code",
   "execution_count": 117,
   "metadata": {},
   "outputs": [
    {
     "name": "stdout",
     "output_type": "stream",
     "text": [
      "No Transition as such\n"
     ]
    },
    {
     "data": {
      "text/plain": [
       "[[False]]"
      ]
     },
     "execution_count": 117,
     "metadata": {},
     "output_type": "execute_result"
    }
   ],
   "source": [
    "O = Machine(AutoEx_1,\"00\")\n",
    "O.Run(AutoEx_1.InitialState, I=O.InputString[0],String=O.InputString[1:])"
   ]
  },
  {
   "cell_type": "code",
   "execution_count": null,
   "metadata": {},
   "outputs": [
    {
     "data": {
      "text/plain": [
       "0"
      ]
     },
     "execution_count": 21,
     "metadata": {},
     "output_type": "execute_result"
    }
   ],
   "source": [
    "A = [1 ,2,4,2,4]\n",
    "B = [\"a\", 1, True, False]\n",
    "\n",
    "A+B\n",
    "A = None\n",
    "A == None\n",
    "\n",
    "A = \"asdfklsadlf\"\n",
    "A = \"\"\n",
    "len(A)"
   ]
  }
 ],
 "metadata": {
  "kernelspec": {
   "display_name": "base",
   "language": "python",
   "name": "python3"
  },
  "language_info": {
   "codemirror_mode": {
    "name": "ipython",
    "version": 3
   },
   "file_extension": ".py",
   "mimetype": "text/x-python",
   "name": "python",
   "nbconvert_exporter": "python",
   "pygments_lexer": "ipython3",
   "version": "3.9.12 (main, Apr  5 2022, 06:56:58) \n[GCC 7.5.0]"
  },
  "orig_nbformat": 4,
  "vscode": {
   "interpreter": {
    "hash": "59208ccb677f212c1646eb5303f79685928d8b969fe7e90846a47be0e6e2ba2a"
   }
  }
 },
 "nbformat": 4,
 "nbformat_minor": 2
}
