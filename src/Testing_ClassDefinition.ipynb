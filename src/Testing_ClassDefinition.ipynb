{
 "cells": [
  {
   "cell_type": "code",
   "execution_count": 2,
   "metadata": {},
   "outputs": [],
   "source": [
    "class State:\n",
    "    \"\"\" This is a class to define the properties of an individual State in a automata\"\"\"\n",
    "\n",
    "    def __init__(self, name, FinalState):\n",
    "        \"\"\" Initailize the State with Arguement:\n",
    "            ID           -  Unique Identifier for the State (String or Integer)\n",
    "            StateType    -  Defines the if the State is Terminal State or vice versa (Boolean)\n",
    "            Transition   -  COntains all transitions from the State (Dictionary)\"\"\"\n",
    "\n",
    "        self.ID = name\n",
    "        self.StateType = FinalState\n",
    "        self.Transition = dict()\n",
    "\n",
    "    def addTransition(self, InString, OutString, OutState):\n",
    "        \"\"\" Appends a Transition into the class variable 'Transition'\n",
    "            Arguement of the method:\n",
    "            Instring    -  Transistion string input \n",
    "            Outstring   -  Output string of the transition\n",
    "            Outstate    -  Next state of the transition\n",
    "            \n",
    "            Return:\n",
    "            None\n",
    "            \"\"\"\n",
    "\n",
    "        self.Transition[InString] = Transition(self, InString, OutString, OutState)   \n"
   ]
  },
  {
   "cell_type": "code",
   "execution_count": 3,
   "metadata": {},
   "outputs": [],
   "source": [
    "class Transition:\n",
    "    \"\"\"The Basic Transition implementation of a state is defined\"\"\"\n",
    "\n",
    "    def __init__(self, InState, InString, OutState, OutString = None):\n",
    "        \"\"\" Defines the basic transition properties and intialized with Argument\n",
    "            Instate    -   Current state ID\n",
    "            Instring   -   Transition string input\n",
    "            OutString  -   Transition output sting\n",
    "            OutState   -   Next state's ID of the transition\n",
    "        \"\"\"\n",
    "\n",
    "        self.InState = InState\n",
    "        self.InString = InString\n",
    "        self.OutString = OutString\n",
    "        self.OutState = OutState"
   ]
  },
  {
   "cell_type": "code",
   "execution_count": 4,
   "metadata": {},
   "outputs": [],
   "source": [
    "class Automata:\n",
    "    \"\"\" Basic class to define the automata's structure and its transitions. Further this automata model and be deployed in acceptor or automaton for applications.\"\"\"\n",
    "\n",
    "    def __init__(self, StateCount, Alphabet, OutAlphabets, InitialStaeCount, FinalStaeCount):\n",
    "        \n",
    "        self.StatesCount = StateCount\n",
    "        self.Alphabet = Alphabet\n",
    "        self.OutAlphabets = OutAlphabets\n",
    "        self.InitialStaeCount = InitialStaeCount\n",
    "        self.FinalStaeCount = FinalStaeCount\n",
    "\n",
    "        self.States = dict()\n",
    "    \n",
    "    # Methods for building the automata structure\n",
    "\n",
    "    def AddState(self, ID, Type):\n",
    "\n",
    "        if self.StatesCount < len(self.States):\n",
    "            self.States[ID] = State(ID, Type)\n",
    "        else:\n",
    "            print(\"Exceeding the number of states!!!\")\n",
    "\n",
    "    def AddStateTransition(self, InState, Instring, OutString, OutState):\n",
    "\n",
    "        if InState in self.States.keys() and OutState in self.States.keys():\n",
    "            In = self.States[InState]\n",
    "            In.addTransition(Instring, OutString, OutState)\n",
    "            return 1\n",
    "        else:\n",
    "            return -1\n",
    "\n",
    "    # Create a new Transition object for a state\n",
    "\n",
    "    def AddsetTransition(self, InState, set ,OutState):\n",
    "        \n",
    "        for a in set:\n",
    "            PCode = self.AddStateTransition(InState, a, a, OutState)\n",
    "            if PCode == -1:\n",
    "                print(f'No state : {InState} present for the Transition |OR| No state : {OutState} present for the Transition')\n",
    "                break\n",
    "        \n",
    "    def AddsetEpilsonTransition(self, InState, set ,OutState):\n",
    "\n",
    "        for a in set:\n",
    "            PCode = self.AddStateTransition(InState, a, '', OutState)\n",
    "            if PCode == -1:\n",
    "                print(f'No state : {InState} present for the Transition |OR| No state : {OutState} present for the Transition')\n",
    "                break\n",
    "  \n",
    "    def AddEpilsonTransition(self, InState, OutState):\n",
    "\n",
    "        PCode = self.AddStateTransition(InState, '', '', OutState)\n",
    "        if PCode == -1:\n",
    "            print(f'No state : {InState} present for the Transition |OR| No state : {OutState} present for the Transition')\n",
    "\n",
    "    def AddEpilsonStringTransition(self, InState, OutString, OutState):\n",
    "\n",
    "        PCode = self.AddStateTransition(InState, '', OutString, OutState)\n",
    "        if PCode == -1:\n",
    "            print(f'No state : {InState} present for the Transition |OR| No state : {OutState} present for the Transition')\n"
   ]
  },
  {
   "cell_type": "code",
   "execution_count": 5,
   "metadata": {},
   "outputs": [
    {
     "data": {
      "text/plain": [
       "{'a': <__main__.Transition at 0x7fcb7428f3d0>,\n",
       " 'b': <__main__.Transition at 0x7fcb743831c0>}"
      ]
     },
     "execution_count": 5,
     "metadata": {},
     "output_type": "execute_result"
    }
   ],
   "source": [
    "Q0 = State('A', False)\n",
    "Q0.addTransition('a', '', Q0)\n",
    "Q0.addTransition('b', '', Q0)\n",
    "Q0.Transition"
   ]
  }
 ],
 "metadata": {
  "kernelspec": {
   "display_name": "base",
   "language": "python",
   "name": "python3"
  },
  "language_info": {
   "codemirror_mode": {
    "name": "ipython",
    "version": 3
   },
   "file_extension": ".py",
   "mimetype": "text/x-python",
   "name": "python",
   "nbconvert_exporter": "python",
   "pygments_lexer": "ipython3",
   "version": "3.9.12"
  },
  "orig_nbformat": 4,
  "vscode": {
   "interpreter": {
    "hash": "59208ccb677f212c1646eb5303f79685928d8b969fe7e90846a47be0e6e2ba2a"
   }
  }
 },
 "nbformat": 4,
 "nbformat_minor": 2
}
