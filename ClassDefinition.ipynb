{
 "cells": [
  {
   "cell_type": "code",
   "execution_count": 9,
   "metadata": {},
   "outputs": [],
   "source": [
    "class State:\n",
    "    \"\"\" This is a class to define the properties of an individual State in a automata\"\"\"\n",
    "\n",
    "    def __init__(self, name, FinalState):\n",
    "        \"\"\" Initailize the State with Arguement:\n",
    "            ID           -  Unique Identifier for the State (String or Integer)\n",
    "            StateType    -  Defines the if the State is Terminal State or vice versa (Boolean)\n",
    "            Transition   -  COntains all transitions from the State (Dictionary)\"\"\"\n",
    "\n",
    "        self.ID = name\n",
    "        self.StateType = FinalState\n",
    "        self.Transition = dict()\n",
    "\n",
    "    def addTransition(self, InString, OutString, OutState):\n",
    "        \"\"\" Appends a Transition into the class variable 'Transition'\n",
    "            Arguement of the method:\n",
    "            Instring    -  Transistion string input \n",
    "            Outstring   -  Output string of the transition\n",
    "            Outstate    -  Next state of the transition\n",
    "            \n",
    "            Return:\n",
    "            None\n",
    "            \"\"\"\n",
    "\n",
    "        self.Transition[InString] = Transition(self, InString, OutString, OutState)\n",
    "\n",
    "class Transition:\n",
    "    \"\"\"The Basic Transition implementation of a state is defined\"\"\"\n",
    "\n",
    "    def __init__(self, InState, InString, OutString, OutState):\n",
    "        \"\"\" Defines the basic transition properties and intialized with Argument\n",
    "            Instate    -   Current state ID\n",
    "            Instring   -   Transition string input\n",
    "            OutString  -   Transition output sting\n",
    "            OutState   -   Next state's ID of the transition\n",
    "        \"\"\"\n",
    "\n",
    "        self.InState = InState\n",
    "        self.InString = InString\n",
    "        self.OutString = OutString\n",
    "        self.OutState = OutState\n",
    "    \n"
   ]
  },
  {
   "cell_type": "code",
   "execution_count": 12,
   "metadata": {},
   "outputs": [
    {
     "data": {
      "text/plain": [
       "{'a': <__main__.Transition at 0x7f3028172df0>,\n",
       " 'b': <__main__.Transition at 0x7f3028172c70>}"
      ]
     },
     "execution_count": 12,
     "metadata": {},
     "output_type": "execute_result"
    }
   ],
   "source": [
    "Q0 = State('A', False)\n",
    "Q0.addTransition('a', '', Q0)\n",
    "Q0.addTransition('b', '', Q0)\n",
    "Q0.Transition"
   ]
  }
 ],
 "metadata": {
  "kernelspec": {
   "display_name": "base",
   "language": "python",
   "name": "python3"
  },
  "language_info": {
   "codemirror_mode": {
    "name": "ipython",
    "version": 3
   },
   "file_extension": ".py",
   "mimetype": "text/x-python",
   "name": "python",
   "nbconvert_exporter": "python",
   "pygments_lexer": "ipython3",
   "version": "3.9.12"
  },
  "orig_nbformat": 4,
  "vscode": {
   "interpreter": {
    "hash": "59208ccb677f212c1646eb5303f79685928d8b969fe7e90846a47be0e6e2ba2a"
   }
  }
 },
 "nbformat": 4,
 "nbformat_minor": 2
}
